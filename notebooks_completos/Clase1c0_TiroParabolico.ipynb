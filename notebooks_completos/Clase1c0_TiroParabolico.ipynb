{
 "metadata": {
  "name": "",
  "signature": "sha256:630e5abf4bea39e7fdd8ec171a1a259df743b6041fdb20b5adf8b92214cf66a4"
 },
 "nbformat": 3,
 "nbformat_minor": 0,
 "worksheets": [
  {
   "cells": [
    {
     "cell_type": "code",
     "collapsed": false,
     "input": [
      "import math\n",
      "\n",
      "G = 9.81"
     ],
     "language": "python",
     "metadata": {},
     "outputs": [],
     "prompt_number": 1
    },
    {
     "cell_type": "heading",
     "level": 1,
     "metadata": {},
     "source": [
      "Problema de tiro parab\u00f3lico"
     ]
    },
    {
     "cell_type": "heading",
     "level": 2,
     "metadata": {},
     "source": [
      "Introducci\u00f3n"
     ]
    },
    {
     "cell_type": "markdown",
     "metadata": {},
     "source": [
      "\u00c9ste ejemplo no es m\u00e1s que una ayuda para introducir el ejemplo del salto de la rana, pues es un poco menos complejo.\n",
      "\n",
      "El ejemplo consiste simplemente en averiguar la velocidad necesaria para lanzar un proyectil con un determinado \u00e1ngulo a una determinada distancia. Aunque \u00e9ste problema admite soluci\u00f3n anal\u00edtica, nosotros vamos a usar un m\u00e9todo num\u00e9rico, que es muy similar al que se emplea a menudo en problemas de contorno en equaciones diferenciales (donde la soluci\u00f3n puede no ser tan sencilla de encontrar)."
     ]
    },
    {
     "cell_type": "heading",
     "level": 2,
     "metadata": {},
     "source": [
      "Implementaci\u00f3n"
     ]
    },
    {
     "cell_type": "markdown",
     "metadata": {},
     "source": [
      "Como siempre, comenzamos creando la funci\u00f3n principal, `main()`, luego recolectamos aquellas funciones que nos hagan falta, y vamos implementando de la m\u00e1s sencilla a la m\u00e1s compleja, repitiendo el proceso para cada una de ellas.\n",
      "\n",
      "Recuerda no comenzar a implementar una funci\u00f3n hasta no haber acabado con la anterior."
     ]
    },
    {
     "cell_type": "heading",
     "level": 3,
     "metadata": {},
     "source": [
      "main()"
     ]
    },
    {
     "cell_type": "code",
     "collapsed": false,
     "input": [
      "def main(angle=45, rel_tol=1E-3):\n",
      "    # Lo primero convertimos el angulo a radianes\n",
      "    angle = math.radians(angle)\n",
      "\n",
      "    # El metodo se basa en saber donde acertamos la vez anterior,\n",
      "    # y donde acertamos esta, para estimar la velocidad para la siguiente\n",
      "    # Por tanto necesitamos unas conditiones iniciales para comenzar\n",
      "    v0, d0, v1, d1 = init(angle)\n",
      "\n",
      "    # Pedimos la distancia por teclado\n",
      "    d = float(input('Where is the target? '))\n",
      "\n",
      "    # Iteramos hasta encontrar una solucion\n",
      "    while abs(d1 - d) / d > rel_tol:\n",
      "        v0, d0, v1, d1 = bissection(v0, d0, v1, d1, angle, d)\n",
      "    \n",
      "    # La imprimimos\n",
      "    print('v = {} m/s -> d = {} m'.format(v1, d1))"
     ],
     "language": "python",
     "metadata": {},
     "outputs": [],
     "prompt_number": 2
    },
    {
     "cell_type": "markdown",
     "metadata": {},
     "source": [
      "Por tanto tenemos dos funciones que debemos implementar:\n",
      "\n",
      "* `init()`\n",
      "* `bissection`\n",
      "\n",
      "No cabe la menor duda de que `init()` va a ser m\u00e1s sencilla."
     ]
    },
    {
     "cell_type": "heading",
     "level": 3,
     "metadata": {},
     "source": [
      "init()"
     ]
    },
    {
     "cell_type": "code",
     "collapsed": false,
     "input": [
      "def init(angle):\n",
      "    # El primer tiro puede ser sencillamente no ir a ninguna parte\n",
      "    v0, d0 = 0.0, 0.0\n",
      "    # Y el segundo tiro, pues a 1 m/s, por que no?\n",
      "    v1 = 1.0\n",
      "    d1 = shot(angle, v1)\n",
      "    \n",
      "    return v0, d0, v1, d1"
     ],
     "language": "python",
     "metadata": {},
     "outputs": [],
     "prompt_number": 3
    },
    {
     "cell_type": "markdown",
     "metadata": {},
     "source": [
      "Por tanto, nuestra nueva funci\u00f3n requiere de una funci\u00f3n, `shot()` que haga de solver para un determinado tiro parab\u00f3lico. Puede ser discutible si es m\u00e1s compleja que `bissection`, pero en un principio parece que ser\u00e1 la m\u00e1s sencilla."
     ]
    },
    {
     "cell_type": "heading",
     "level": 3,
     "metadata": {},
     "source": [
      "shot()"
     ]
    },
    {
     "cell_type": "code",
     "collapsed": false,
     "input": [
      "def shot(angle, v):\n",
      "    # Lo primero es obtener las componentes x e y de la velocidad\n",
      "    vx, vy = v * math.cos(angle), v * math.sin(angle)\n",
      "\n",
      "    # Con esto podemos sacar el tiempo de vuelo\n",
      "    t = 2 * vy / G\n",
      "\n",
      "    # Y asi el alcance\n",
      "    return vx * t"
     ],
     "language": "python",
     "metadata": {},
     "outputs": [],
     "prompt_number": 4
    },
    {
     "cell_type": "heading",
     "level": 3,
     "metadata": {},
     "source": [
      "bissection()"
     ]
    },
    {
     "cell_type": "code",
     "collapsed": false,
     "input": [
      "def bissection(x_a, f_a, x_b, f_b, angle, f):\n",
      "    # Reordenamos si es necesario\n",
      "    if f_a > f_b:\n",
      "        x_a, f_a, x_b, f_b = x_b, f_b, x_a, f_a\n",
      "    \n",
      "    # Obtenemos una nueva aproximacion para la velocidad\n",
      "    if f_a < f < f_b:\n",
      "        x_c = 0.5 * (x_a + x_b)\n",
      "    else:\n",
      "        x_c = 2.0 * x_b\n",
      "    \n",
      "    # Y el alcance correspodiente\n",
      "    f_c = shot(angle, x_c)\n",
      "\n",
      "    # Y comprobamos en que subintervalo esta\n",
      "    if f_c > f:\n",
      "        return x_a, f_a, x_c, f_c\n",
      "    return x_b, f_b, x_c, f_c"
     ],
     "language": "python",
     "metadata": {},
     "outputs": [],
     "prompt_number": 5
    },
    {
     "cell_type": "heading",
     "level": 2,
     "metadata": {},
     "source": [
      "A probarlo!"
     ]
    },
    {
     "cell_type": "code",
     "collapsed": false,
     "input": [
      "main()"
     ],
     "language": "python",
     "metadata": {},
     "outputs": [
      {
       "name": "stdout",
       "output_type": "stream",
       "stream": "stdout",
       "text": [
        "Where is the target? 100\n"
       ]
      },
      {
       "output_type": "stream",
       "stream": "stdout",
       "text": [
        "v = 31.3203125 m/s -> d = 99.99612386316578 m\n"
       ]
      }
     ],
     "prompt_number": 6
    }
   ],
   "metadata": {}
  }
 ]
}