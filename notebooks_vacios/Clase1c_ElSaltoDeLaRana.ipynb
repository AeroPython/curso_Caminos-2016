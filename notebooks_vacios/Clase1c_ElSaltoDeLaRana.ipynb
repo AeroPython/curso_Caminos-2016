{
 "metadata": {
  "name": "",
  "signature": "sha256:a2f70f5ada7f09aecf6dad416d191fcb152c768397cc8160d84d566ede72c63c"
 },
 "nbformat": 3,
 "nbformat_minor": 0,
 "worksheets": [
  {
   "cells": [
    {
     "cell_type": "code",
     "collapsed": false,
     "input": [
      "from IPython.display import Image"
     ],
     "language": "python",
     "metadata": {},
     "outputs": []
    },
    {
     "cell_type": "heading",
     "level": 1,
     "metadata": {},
     "source": [
      "El juego del salto de la rana"
     ]
    },
    {
     "cell_type": "heading",
     "level": 2,
     "metadata": {},
     "source": [
      "Objetivos del ejercicio"
     ]
    },
    {
     "cell_type": "markdown",
     "metadata": {},
     "source": [
      "En todo curso de programaci\u00f3n se ense\u00f1an tarde o temprano las funciones, y este por supuesto no ha sido una excepci\u00f3n. Lo que realmente diferencia un curso de programaci\u00f3n de un curso de algor\u00edtmica o de m\u00e9todos num\u00e9ricos es como se ense\u00f1an dichas funciones, o m\u00e1s importante, como se saca partido de las mismas.\n",
      "\n",
      "En ese sentido, La armada americana (US Navy) ya introdujo en 1960 el principio KISS"
     ]
    },
    {
     "cell_type": "code",
     "collapsed": false,
     "input": [
      "Image(filename='../static/kiss.jpg')"
     ],
     "language": "python",
     "metadata": {},
     "outputs": []
    },
    {
     "cell_type": "markdown",
     "metadata": {},
     "source": [
      "Principio que de alguna forma toma prestado el zen de Python. Desafortunadamente, ese principio no siempre se cumple, y a menudo es debido a una deficiente o incluso negligente formaci\u00f3n.\n",
      "\n",
      "Bien es cierto, y es de hecho el origen del problema, que el principio KISS para un profano en programaci\u00f3n simplemente carece de significado. Por eso, durante este ejercicio vamos a intentar demostrar de forma pr\u00e1ctica las ventajas de tomar como propio ese principio, usando un paradigma que yo he dado en describir como:\n",
      "\n",
      "**<span style=\"color:#999; font-size: 3em;\">&ldquo;</span>_Programar como humanos, no como m\u00e1quinas_**"
     ]
    },
    {
     "cell_type": "heading",
     "level": 2,
     "metadata": {},
     "source": [
      "Descripci\u00f3n del juego"
     ]
    },
    {
     "cell_type": "markdown",
     "metadata": {},
     "source": [
      "El juego es realmente un acertijo. Supongamos que tenemos un tablero como el siguiente:"
     ]
    },
    {
     "cell_type": "code",
     "collapsed": false,
     "input": [
      "Image(filename='../static/juego_rana_001.png')"
     ],
     "language": "python",
     "metadata": {},
     "outputs": []
    },
    {
     "cell_type": "markdown",
     "metadata": {},
     "source": [
      "Un tablero con 7 huecos, en los que los 3 huecos de la izquierda contienen fichas rojas, mientras que los 3 huecos de la derecha contienen fichas azules.\n",
      "\n",
      "El objetivo del juego/acertijo, es conseguir que todas las fichas rojas ocupen las posiciones de las fichas azules, y viceversa. Para alcanzar el objetivo las fichas rojas s\u00f3lo pueden mover hacia la derecha mientras que las fichas azules s\u00f3lo pueden mover hacia la izquierda.\n",
      "\n",
      "Los movimientos permitidos son los siguientes:\n",
      "* Se puede mover una ficha una \u00fanica casilla hasta el hueco, que por supuesto deber\u00e1 ser contiguo:"
     ]
    },
    {
     "cell_type": "code",
     "collapsed": false,
     "input": [
      "Image(filename='../static/juego_rana_002.png')"
     ],
     "language": "python",
     "metadata": {},
     "outputs": []
    },
    {
     "cell_type": "markdown",
     "metadata": {},
     "source": [
      "* O se permite avanzar dos casillas con una ficha, saltando otra ficha del color contrario:"
     ]
    },
    {
     "cell_type": "code",
     "collapsed": false,
     "input": [
      "Image(filename='../static/juego_rana_003.png')"
     ],
     "language": "python",
     "metadata": {},
     "outputs": []
    },
    {
     "cell_type": "heading",
     "level": 2,
     "metadata": {},
     "source": [
      "Implementando el juego"
     ]
    },
    {
     "cell_type": "markdown",
     "metadata": {},
     "source": [
      "Tratamos de modificar la manera en la que tradicionalmente se enfoca un problema como este cuando se dan los primeros pasos en programaci\u00f3n. Desafortunadamente, esto es estrictamente incompatible con la forma en la que se redacta y describe un notebook the Python, ya que obligar\u00eda a ejecutar las celdas en orden inverso.\n",
      "\n",
      "Por tanto, los que vamos a hacer, es guiarnos por enlaces internos del documento.\n",
      "\n",
      "La forma de pensar es la siguiente:\n",
      "* Primero actuamos como usuarios de librer\u00edas. Es decir, programamos aquello que deseamos, sin preocuparnos de si realmente disponemos de todas las funciones a las que estamos llamando.\n",
      "* Segundo recolectamos y listamos todas las funciones que necesitamos y que no est\u00e1n implementadas.\n",
      "* Empezamos por la m\u00e1s sencilla, y vamos una por una implementandolas (volviendo al principio de \u00e9sta lista).\n",
      "\n",
      "Por tanto, el primer paso es [crear la funci\u00f3n principal](#main)."
     ]
    },
    {
     "cell_type": "markdown",
     "metadata": {},
     "source": [
      "### main\n",
      "\n",
      "El juego consiste en una inicializaci\u00f3n, en la que se crear\u00e1 el tablero, un bucle en el que el usuario va moviendo fichas hasta que no se puede mover nada m\u00e1s, y un final en el que se comprueba si el usuario ha ganado o ha perdido.\n",
      "\n",
      "Esto es bien f\u00e1cil de implementar si se consigue alcanzar un nivel suficiente de abstracci\u00f3n:"
     ]
    },
    {
     "cell_type": "code",
     "collapsed": false,
     "input": [
      "def main():\n",
      "    # Creamos el tablero de juego\n",
      "    board = init()\n",
      "    target = board[::-1]\n",
      "\n",
      "    # Vamos pasando turnos hasta que no podamos continuar\n",
      "    while can_move_something(board):\n",
      "        # Pintamos el tablero\n",
      "        show(board)\n",
      "        # Pedimos por teclado una ficha para mover\n",
      "        pos = int(input('Select a token to move (by its position): '))\n",
      "        # Nos aseguramos de que esa ficha puede mover\n",
      "        if not can_move(board, pos):\n",
      "            print('The token cannot move!')\n",
      "            continue\n",
      "        # Y la movemos\n",
      "        board = move(board, pos)\n",
      "\n",
      "    # Comprobamos si ha ganado\n",
      "    if board == target:\n",
      "        print('ENHORABUENA!')\n",
      "    else:\n",
      "        print('Pringao!')"
     ],
     "language": "python",
     "metadata": {},
     "outputs": []
    },
    {
     "cell_type": "markdown",
     "metadata": {},
     "source": [
      "Visto de esta forma, el juego parece bien simple, \u00bfcierto?\n",
      "\n",
      "Efectivamente, al ejecutar la celda no nos da ning\u00fan error a pesar de que a\u00fan no hemos creado las siguientes funciones:\n",
      "\n",
      "* `init()`\n",
      "* `can_move_something(list)`\n",
      "* `show(list)`\n",
      "* `can_move(list, int)`\n",
      "* `move(list, int)`\n",
      "\n",
      "Eso se debe a que al definir la funci\u00f3n \u00e9sta no se ejecuta todav\u00eda.\n",
      "\n",
      "As\u00ed pues debemos ir definiendo esas funciones. Podemos empezar por `init()`, que es la m\u00e1s sencilla."
     ]
    },
    {
     "cell_type": "markdown",
     "metadata": {},
     "source": [
      "### init()\n",
      "\n",
      "La creaci\u00f3n del tablero no es demasiado compleja. Tan s\u00f3lo hay que crear una lista con 7 n\u00fameros enteros, en el que el `0` representa el hueco vac\u00edo, el `1` las fichas rojas, y el `-1` las fichas azules.\n",
      "Puede parecer que la elecci\u00f3n del valor para las fichas azules es un poco caprichoso, pero no lo es en absoluto, ya que de paso nos permite saber la direcci\u00f3n en la que avanzan, lo que nos ahorrar\u00e1 un poco de trabajo"
     ]
    },
    {
     "cell_type": "code",
     "collapsed": false,
     "input": [
      "def init():\n",
      "    return [1] * 3 + [0] + [-1] * 3"
     ],
     "language": "python",
     "metadata": {},
     "outputs": []
    },
    {
     "cell_type": "markdown",
     "metadata": {},
     "source": [
      "Como se puede observar, una funci\u00f3n tremendamente simple, hasta tal punto que no requiere de ninguna otra funci\u00f3n para trabajar. Por tanto, podemos recuperar la lista de funciones pendientes de `main()`, y continuar por la m\u00e1s sencilla, que probablemente es `show()`"
     ]
    },
    {
     "cell_type": "markdown",
     "metadata": {},
     "source": [
      "### show(list)\n",
      "\n",
      "Mostrar el tablero puede ser bastante complejo, pero en \u00e9sta ocasi\u00f3n nos limitaremos simplemente a pedirle a Python que nos pinte la lista, sin preocuparnos por el formato:"
     ]
    },
    {
     "cell_type": "code",
     "collapsed": false,
     "input": [
      "def show(board):\n",
      "    print(board)"
     ],
     "language": "python",
     "metadata": {},
     "outputs": []
    },
    {
     "cell_type": "markdown",
     "metadata": {},
     "source": [
      "De las funciones que nos faltan, las dos pueden ser muy complejas si no nos esforzamos en abstraernos lo suficiente. Pero con un poquito de abstracci\u00f3n ambas se vuelven sumamente simples. Empezemos por `can_move_something(list)`"
     ]
    },
    {
     "cell_type": "markdown",
     "metadata": {},
     "source": [
      "### can_move_something(list)\n",
      "\n",
      "En realidad, \u00e9sta funci\u00f3n s\u00f3lo debe recorrer la lista, y preguntar si alguien puede moverse. En caso de encontrar alguna ficha que pueda moverse, devolveremos una respuesta afirmativa:"
     ]
    },
    {
     "cell_type": "code",
     "collapsed": false,
     "input": [
      "def can_move_something(board):\n",
      "    for i in range(len(board)):\n",
      "        if can_move(board, i):\n",
      "            return True\n",
      "    return False"
     ],
     "language": "python",
     "metadata": {},
     "outputs": []
    },
    {
     "cell_type": "markdown",
     "metadata": {},
     "source": [
      "Conviene reparar en que \u00e9sta funci\u00f3n hace uso de otra funci\u00f3n `can_move(list, int)`, que todav\u00eda no hemos creado. Sin embargo, esa funci\u00f3n ya la requeriamos en `main()`, as\u00ed que realmente no a\u00f1adimos m\u00e1s trabajo, t\u00e1n s\u00f3lo aprovechamos las ventajas de usar funciones.\n",
      "\n",
      "Entre las funciones que a\u00fan tenemos pendientes, `can_move(list, int)` y `move(list, int)`, claramente `move(list, int)` debe ser nuestra siguiente candidata."
     ]
    },
    {
     "cell_type": "markdown",
     "metadata": {},
     "source": [
      "### move(list, pos)\n",
      "\n",
      "En un principio la funci\u00f3n `move(list, int)` puede parecer m\u00e1s compleja de lo que es, pero en realidad es una funci\u00f3n muy sencilla si tenemos en cuenta que:\n",
      "\n",
      "* Ya hemos comprobado que la ficha se puede mover\n",
      "* S\u00f3lo existe una \u00fanica posici\u00f3n a la que mover, pues s\u00f3lo existe un hueco\n",
      "\n",
      "As\u00ed que en realidad esta funci\u00f3n s\u00f3lo debe intercambiar los valores de la posici\u00f3n elegida y del hueco."
     ]
    },
    {
     "cell_type": "code",
     "collapsed": false,
     "input": [
      "def move(board, token):\n",
      "    hole = get_hole(board)\n",
      "    board[token], board[hole] = board[hole], board[token]\n",
      "    return board"
     ],
     "language": "python",
     "metadata": {},
     "outputs": []
    },
    {
     "cell_type": "markdown",
     "metadata": {},
     "source": [
      "En \u00e9sta ocasi\u00f3n, hemos a\u00f1adido una nueva funci\u00f3n que debemos implementar, `get_hole(list)`, pero que es bien sencilla."
     ]
    },
    {
     "cell_type": "markdown",
     "metadata": {},
     "source": [
      "### get_hole(list)\n",
      "\n",
      "\u00c9sta funci\u00f3n tan s\u00f3lo debe buscar donde se encuentra el 0 en la lista, que adem\u00e1s sabemos que ser\u00e1 \u00fanico."
     ]
    },
    {
     "cell_type": "code",
     "collapsed": false,
     "input": [
      "def get_hole(board):\n",
      "    for i,token in enumerate(board):\n",
      "        if not token:\n",
      "            return i"
     ],
     "language": "python",
     "metadata": {},
     "outputs": []
    },
    {
     "cell_type": "markdown",
     "metadata": {},
     "source": [
      "Finalmente, debemos enfrentarnos a la funci\u00f3n m\u00e1s complicada, `can_move(list, int)`."
     ]
    },
    {
     "cell_type": "markdown",
     "metadata": {},
     "source": [
      "### can_move(list, pos)\n",
      "\n",
      "\u00c9sta funci\u00f3n puede volverse muy complicada, as\u00ed que conviene tomarse un tiempo para pensar una estrategia. En nuestro caso vamos a intentar aprovechar el hecho de que s\u00f3lo hay un hueco:"
     ]
    },
    {
     "cell_type": "code",
     "collapsed": false,
     "input": [
      "def can_move(board, token):\n",
      "    # Excluimos por supuesto fichas fuera del tablero\n",
      "    if not -1 < token < len(board):\n",
      "        return False\n",
      "    # Y excluimos tambien el hueco\n",
      "    if not board[token]:\n",
      "        return False\n",
      "    # Vamos a ver donde esta el hueco\n",
      "    hole = get_hole(board)\n",
      "    # Si el hueco es contiguo, y esta en el lado correcto, entonces sabemos positivamente que podemos mover\n",
      "    if token + board[token] == hole:\n",
      "        return True\n",
      "    # Si no es el caso, la ficha esta obligada a saltar\n",
      "    if (token + 2 * board[token] == hole) and (board[token + board[token]] != board[token]):\n",
      "        return True\n",
      "    # Si la ficha no puede avanzar o saltar, entonces no se puede mover\n",
      "    return False"
     ],
     "language": "python",
     "metadata": {},
     "outputs": []
    },
    {
     "cell_type": "markdown",
     "metadata": {},
     "source": [
      "# A jugar!\n",
      "\n",
      "Ya tenemos el juego listo, as\u00ed que es momento de jugar!"
     ]
    },
    {
     "cell_type": "code",
     "collapsed": false,
     "input": [
      "main()"
     ],
     "language": "python",
     "metadata": {},
     "outputs": []
    }
   ],
   "metadata": {}
  }
 ]
}