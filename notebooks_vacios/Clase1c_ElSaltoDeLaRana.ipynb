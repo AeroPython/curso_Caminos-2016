{
 "cells": [
  {
   "cell_type": "code",
   "execution_count": null,
   "metadata": {
    "collapsed": false
   },
   "outputs": [],
   "source": [
    "from IPython.display import Image"
   ]
  },
  {
   "cell_type": "markdown",
   "metadata": {},
   "source": [
    "# El juego del salto de la rana"
   ]
  },
  {
   "cell_type": "markdown",
   "metadata": {},
   "source": [
    "## Objetivos del ejercicio"
   ]
  },
  {
   "cell_type": "markdown",
   "metadata": {},
   "source": [
    "En todo curso de programación se enseñan tarde o temprano las funciones, y este por supuesto no ha sido una excepción. Lo que realmente diferencia un curso de programación de un curso de algorítmica o de métodos numéricos es como se enseñan dichas funciones, o más importante, como se saca partido de las mismas.\n",
    "\n",
    "En ese sentido, La armada americana (US Navy) ya introdujo en 1960 el principio KISS"
   ]
  },
  {
   "cell_type": "code",
   "execution_count": null,
   "metadata": {
    "collapsed": false
   },
   "outputs": [],
   "source": [
    "Image(filename='../static/kiss.jpg')"
   ]
  },
  {
   "cell_type": "markdown",
   "metadata": {},
   "source": [
    "Principio que de alguna forma toma prestado el zen de Python. Desafortunadamente, ese principio no siempre se cumple, y a menudo es debido a una deficiente o incluso negligente formación.\n",
    "\n",
    "Bien es cierto, y es de hecho el origen del problema, que el principio KISS para un profano en programación simplemente carece de significado. Por eso, durante este ejercicio vamos a intentar demostrar de forma práctica las ventajas de tomar como propio ese principio, usando un paradigma que yo he dado en describir como:\n",
    "\n",
    "**<span style=\"color:#999; font-size: 3em;\">&ldquo;</span>_Programar como humanos, no como máquinas_**"
   ]
  },
  {
   "cell_type": "markdown",
   "metadata": {},
   "source": [
    "## Descripción del juego"
   ]
  },
  {
   "cell_type": "markdown",
   "metadata": {},
   "source": [
    "El juego es realmente un acertijo. Supongamos que tenemos un tablero como el siguiente:"
   ]
  },
  {
   "cell_type": "code",
   "execution_count": null,
   "metadata": {
    "collapsed": false
   },
   "outputs": [],
   "source": [
    "Image(filename='../static/juego_rana_001.png')"
   ]
  },
  {
   "cell_type": "markdown",
   "metadata": {},
   "source": [
    "Un tablero con 7 huecos, en los que los 3 huecos de la izquierda contienen fichas rojas, mientras que los 3 huecos de la derecha contienen fichas azules.\n",
    "\n",
    "El objetivo del juego/acertijo, es conseguir que todas las fichas rojas ocupen las posiciones de las fichas azules, y viceversa. Para alcanzar el objetivo las fichas rojas sólo pueden mover hacia la derecha mientras que las fichas azules sólo pueden mover hacia la izquierda.\n",
    "\n",
    "Los movimientos permitidos son los siguientes:\n",
    "* Se puede mover una ficha una única casilla hasta el hueco, que por supuesto deberá ser contiguo:"
   ]
  },
  {
   "cell_type": "code",
   "execution_count": null,
   "metadata": {
    "collapsed": false
   },
   "outputs": [],
   "source": [
    "Image(filename='../static/juego_rana_002.png')"
   ]
  },
  {
   "cell_type": "markdown",
   "metadata": {},
   "source": [
    "* O se permite avanzar dos casillas con una ficha, saltando otra ficha del color contrario:"
   ]
  },
  {
   "cell_type": "code",
   "execution_count": null,
   "metadata": {
    "collapsed": false
   },
   "outputs": [],
   "source": [
    "Image(filename='../static/juego_rana_003.png')"
   ]
  },
  {
   "cell_type": "markdown",
   "metadata": {},
   "source": [
    "## Implementando el juego"
   ]
  },
  {
   "cell_type": "markdown",
   "metadata": {},
   "source": [
    "Tratamos de modificar la manera en la que tradicionalmente se enfoca un problema como este cuando se dan los primeros pasos en programación. Desafortunadamente, esto es estrictamente incompatible con la forma en la que se redacta y describe un notebook the Python, ya que obligaría a ejecutar las celdas en orden inverso.\n",
    "\n",
    "Por tanto, los que vamos a hacer, es guiarnos por enlaces internos del documento.\n",
    "\n",
    "La forma de pensar es la siguiente:\n",
    "* Primero actuamos como usuarios de librerías. Es decir, programamos aquello que deseamos, sin preocuparnos de si realmente disponemos de todas las funciones a las que estamos llamando.\n",
    "* Segundo recolectamos y listamos todas las funciones que necesitamos y que no están implementadas.\n",
    "* Empezamos por la más sencilla, y vamos una por una implementandolas (volviendo al principio de ésta lista).\n",
    "\n",
    "Por tanto, el primer paso es [crear la función principal](#main)."
   ]
  },
  {
   "cell_type": "markdown",
   "metadata": {},
   "source": [
    "### main\n",
    "\n",
    "El juego consiste en una inicialización, en la que se creará el tablero, un bucle en el que el usuario va moviendo fichas hasta que no se puede mover nada más, y un final en el que se comprueba si el usuario ha ganado o ha perdido.\n",
    "\n",
    "Esto es bien fácil de implementar si se consigue alcanzar un nivel suficiente de abstracción:"
   ]
  },
  {
   "cell_type": "code",
   "execution_count": null,
   "metadata": {
    "collapsed": false
   },
   "outputs": [],
   "source": []
  },
  {
   "cell_type": "markdown",
   "metadata": {},
   "source": [
    "Visto de esta forma, el juego parece bien simple, ¿cierto?\n",
    "\n",
    "Efectivamente, al ejecutar la celda no nos da ningún error a pesar de que aún no hemos creado las siguientes funciones:\n",
    "\n",
    "* `init()`\n",
    "* `can_move_something(list)`\n",
    "* `show(list)`\n",
    "* `can_move(list, int)`\n",
    "* `move(list, int)`\n",
    "\n",
    "Eso se debe a que al definir la función ésta no se ejecuta todavía.\n",
    "\n",
    "Así pues debemos ir definiendo esas funciones. Podemos empezar por `init()`, que es la más sencilla."
   ]
  },
  {
   "cell_type": "markdown",
   "metadata": {},
   "source": [
    "### init()\n",
    "\n",
    "La creación del tablero no es demasiado compleja. Tan sólo hay que crear una lista con 7 números enteros, en el que el `0` representa el hueco vacío, el `1` las fichas rojas, y el `-1` las fichas azules.\n",
    "Puede parecer que la elección del valor para las fichas azules es un poco caprichoso, pero no lo es en absoluto, ya que de paso nos permite saber la dirección en la que avanzan, lo que nos ahorrará un poco de trabajo"
   ]
  },
  {
   "cell_type": "code",
   "execution_count": null,
   "metadata": {
    "collapsed": false
   },
   "outputs": [],
   "source": []
  },
  {
   "cell_type": "markdown",
   "metadata": {},
   "source": [
    "Como se puede observar, una función tremendamente simple, hasta tal punto que no requiere de ninguna otra función para trabajar. Por tanto, podemos recuperar la lista de funciones pendientes de `main()`, y continuar por la más sencilla, que probablemente es `show()`"
   ]
  },
  {
   "cell_type": "markdown",
   "metadata": {},
   "source": [
    "### show(list)\n",
    "\n",
    "Mostrar el tablero puede ser bastante complejo, pero en ésta ocasión nos limitaremos simplemente a pedirle a Python que nos pinte la lista, sin preocuparnos por el formato:"
   ]
  },
  {
   "cell_type": "code",
   "execution_count": null,
   "metadata": {
    "collapsed": false
   },
   "outputs": [],
   "source": []
  },
  {
   "cell_type": "markdown",
   "metadata": {},
   "source": [
    "De las funciones que nos faltan, las dos pueden ser muy complejas si no nos esforzamos en abstraernos lo suficiente. Pero con un poquito de abstracción ambas se vuelven sumamente simples. Empezemos por `can_move_something(list)`"
   ]
  },
  {
   "cell_type": "markdown",
   "metadata": {},
   "source": [
    "### can_move_something(list)\n",
    "\n",
    "En realidad, ésta función sólo debe recorrer la lista, y preguntar si alguien puede moverse. En caso de encontrar alguna ficha que pueda moverse, devolveremos una respuesta afirmativa:"
   ]
  },
  {
   "cell_type": "code",
   "execution_count": null,
   "metadata": {
    "collapsed": false
   },
   "outputs": [],
   "source": []
  },
  {
   "cell_type": "markdown",
   "metadata": {},
   "source": [
    "Conviene reparar en que ésta función hace uso de otra función `can_move(list, int)`, que todavía no hemos creado. Sin embargo, esa función ya la requeriamos en `main()`, así que realmente no añadimos más trabajo, tán sólo aprovechamos las ventajas de usar funciones.\n",
    "\n",
    "Entre las funciones que aún tenemos pendientes, `can_move(list, int)` y `move(list, int)`, claramente `move(list, int)` debe ser nuestra siguiente candidata."
   ]
  },
  {
   "cell_type": "markdown",
   "metadata": {},
   "source": [
    "### move(list, pos)\n",
    "\n",
    "En un principio la función `move(list, int)` puede parecer más compleja de lo que es, pero en realidad es una función muy sencilla si tenemos en cuenta que:\n",
    "\n",
    "* Ya hemos comprobado que la ficha se puede mover\n",
    "* Sólo existe una única posición a la que mover, pues sólo existe un hueco\n",
    "\n",
    "Así que en realidad esta función sólo debe intercambiar los valores de la posición elegida y del hueco."
   ]
  },
  {
   "cell_type": "code",
   "execution_count": null,
   "metadata": {
    "collapsed": false
   },
   "outputs": [],
   "source": []
  },
  {
   "cell_type": "markdown",
   "metadata": {},
   "source": [
    "En ésta ocasión, hemos añadido una nueva función que debemos implementar, `get_hole(list)`, pero que es bien sencilla."
   ]
  },
  {
   "cell_type": "markdown",
   "metadata": {},
   "source": [
    "### get_hole(list)\n",
    "\n",
    "Ésta función tan sólo debe buscar donde se encuentra el 0 en la lista, que además sabemos que será único."
   ]
  },
  {
   "cell_type": "code",
   "execution_count": null,
   "metadata": {
    "collapsed": false
   },
   "outputs": [],
   "source": []
  },
  {
   "cell_type": "markdown",
   "metadata": {},
   "source": [
    "Finalmente, debemos enfrentarnos a la función más complicada, `can_move(list, int)`."
   ]
  },
  {
   "cell_type": "markdown",
   "metadata": {},
   "source": [
    "### can_move(list, pos)\n",
    "\n",
    "Ésta función puede volverse muy complicada, así que conviene tomarse un tiempo para pensar una estrategia. En nuestro caso vamos a intentar aprovechar el hecho de que sólo hay un hueco:"
   ]
  },
  {
   "cell_type": "code",
   "execution_count": null,
   "metadata": {
    "collapsed": false
   },
   "outputs": [],
   "source": []
  },
  {
   "cell_type": "markdown",
   "metadata": {},
   "source": [
    "# A jugar!\n",
    "\n",
    "Ya tenemos el juego listo, así que es momento de jugar!"
   ]
  },
  {
   "cell_type": "code",
   "execution_count": null,
   "metadata": {
    "collapsed": false
   },
   "outputs": [],
   "source": []
  }
 ],
 "metadata": {
  "anaconda-cloud": {},
  "kernelspec": {
   "display_name": "Python [default]",
   "language": "python",
   "name": "python3"
  },
  "language_info": {
   "codemirror_mode": {
    "name": "ipython",
    "version": 3
   },
   "file_extension": ".py",
   "mimetype": "text/x-python",
   "name": "python",
   "nbconvert_exporter": "python",
   "pygments_lexer": "ipython3",
   "version": "3.5.2"
  }
 },
 "nbformat": 4,
 "nbformat_minor": 0
}
