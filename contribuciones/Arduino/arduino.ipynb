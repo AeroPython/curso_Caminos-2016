{
 "cells": [
  {
   "cell_type": "markdown",
   "metadata": {},
   "source": [
    "<img src=\"../../static/aeropython_name_mini.png\" alt=\"AeroPython\" style=\"width: 300px;\"/>"
   ]
  },
  {
   "cell_type": "markdown",
   "metadata": {
    "collapsed": false
   },
   "source": [
    "## Interactuar con arduino desde un Notebook"
   ]
  },
  {
   "cell_type": "markdown",
   "metadata": {},
   "source": [
    "Importamos las librerías que vamos a usar"
   ]
  },
  {
   "cell_type": "code",
   "execution_count": null,
   "metadata": {
    "collapsed": true
   },
   "outputs": [],
   "source": [
    "import serial\n",
    "import datetime\n",
    "%matplotlib inline\n",
    "import matplotlib.pyplot as plt\n",
    "import numpy as np"
   ]
  },
  {
   "cell_type": "markdown",
   "metadata": {},
   "source": [
    "Esta función nos servirá para calcular el tiempo que ha pasado desde el inicio"
   ]
  },
  {
   "cell_type": "code",
   "execution_count": null,
   "metadata": {
    "collapsed": false
   },
   "outputs": [],
   "source": [
    "def deltatime():\n",
    "    tiempo = datetime.datetime.now()\n",
    "    deltat = tiempo - starttime\n",
    "    return deltat.seconds + deltat.microseconds/1000000"
   ]
  },
  {
   "cell_type": "markdown",
   "metadata": {},
   "source": [
    "Esta función decodifica los mensajes que envía el arduino"
   ]
  },
  {
   "cell_type": "code",
   "execution_count": null,
   "metadata": {
    "collapsed": true
   },
   "outputs": [],
   "source": [
    "def decode_medida(lectura):\n",
    "    _pos = lectura.find('posicion') + 10\n",
    "    _pos2 = lectura.find(' ',_pos )\n",
    "    medida_1 = float(lectura[_pos : _pos2])\n",
    "\n",
    "    _pos = lectura.find('velocidad') + 11\n",
    "    _pos2 = lectura.find(' ',_pos )\n",
    "    medida_2 = float(lectura[_pos : _pos2])\n",
    "    \n",
    "    return (medida_1, medida_2)"
   ]
  },
  {
   "cell_type": "markdown",
   "metadata": {},
   "source": [
    "Esta función pregunta al arduino su estado y guarda los resultados"
   ]
  },
  {
   "cell_type": "code",
   "execution_count": null,
   "metadata": {
    "collapsed": true
   },
   "outputs": [],
   "source": [
    "def com_status(tiempos, posiciones, velocidades, serial_com):\n",
    "    serial_com.write(b'status')\n",
    "    lectura = serial_com.readline().decode(\"utf-8\")\n",
    "    print(lectura) #Espera hasta que empiece a comunicarse\n",
    "    if lectura[:22] == 'Modo escucha. Medida: ':\n",
    "        tiempos.append(deltatime())\n",
    "        medida = float(lectura[22:])\n",
    "        posiciones.append(medida)\n",
    "        velocidades.append(0.0)"
   ]
  },
  {
   "cell_type": "markdown",
   "metadata": {},
   "source": [
    "Esta función inicia la comunicación"
   ]
  },
  {
   "cell_type": "code",
   "execution_count": null,
   "metadata": {
    "collapsed": true
   },
   "outputs": [],
   "source": [
    "def com_start_full():\n",
    "    ser = serial.Serial('COM6', 9600) #Iniciamos comunicación\n",
    "    #Linux: ser = serial.Serial('/dev/ttyACM0', 9600)\n",
    "    ser.readline()\n",
    "    print('Calibrando posiciones\\r\\n')\n",
    "    ser.write(b'calibrate')\n",
    "    ser.readline()\n",
    "    starttime = datetime.datetime.now()    \n",
    "    print('preparado\\r\\n')\n",
    "    return ser, starttime"
   ]
  },
  {
   "cell_type": "markdown",
   "metadata": {},
   "source": [
    "Esta función envía al arduino la orden de moverse"
   ]
  },
  {
   "cell_type": "code",
   "execution_count": null,
   "metadata": {
    "collapsed": true
   },
   "outputs": [],
   "source": [
    "def com_move(tiempos, posiciones, velocidades, serial_com, destino, medida):\n",
    "    destino = str(destino).encode()\n",
    "    serial_com.write(b'move')\n",
    "    serial_com.readline()\n",
    "    serial_com.write(destino) #Enviamos una orden\n",
    "    print('mensaje enviado\\r\\n')\n",
    "    posiciones.append(medida)\n",
    "    velocidades.append(0.0)       \n",
    "    tiempos.append(deltatime())"
   ]
  },
  {
   "cell_type": "markdown",
   "metadata": {},
   "source": [
    "Esta función devuelve la mesa a la posición central y finaliza la comunicación"
   ]
  },
  {
   "cell_type": "code",
   "execution_count": null,
   "metadata": {
    "collapsed": true
   },
   "outputs": [],
   "source": [
    "def com_close(tiempos, posiciones, velocidades, serial_com,):\n",
    "    destino = str(90).encode()\n",
    "    serial_com.write(b'move')\n",
    "    serial_com.readline()\n",
    "    serial_com.write(destino) #Enviamos una orden\n",
    "    print('Volviendo a posición central\\r\\n')\n",
    "    for i in range(100): #Leemos hasta que pase a 'Esperando', o hasta que pasen 100 pasos\n",
    "        finish = com_read_move(tiempos, posiciones, velocidades, [], ser)\n",
    "        if finish: break\n",
    "    serial_com.close()\n",
    "    print ('\\r\\nOperación terminada')"
   ]
  },
  {
   "cell_type": "markdown",
   "metadata": {},
   "source": [
    "Esta función comprueba si nos seguimos moviendo o ya hemos alcanzado el destino"
   ]
  },
  {
   "cell_type": "code",
   "execution_count": null,
   "metadata": {
    "collapsed": true
   },
   "outputs": [],
   "source": [
    "def com_read_move(tiempos, posiciones, velocidades, hitos, serial_com):\n",
    "    finish = False\n",
    "    lectura = serial_com.readline().decode(\"utf-8\")\n",
    "    print(lectura, end = '') \n",
    "    if lectura == 'Alcanzado\\r\\n':\n",
    "        hitos.append(deltatime())\n",
    "        finish = True\n",
    "        print('')\n",
    "    if lectura[:8] == 'moviendo':\n",
    "        medida = decode_medida(lectura)\n",
    "        posiciones.append(medida[0])\n",
    "        velocidades.append(medida[1])        \n",
    "        tiempos.append(deltatime())\n",
    "    return finish"
   ]
  },
  {
   "cell_type": "markdown",
   "metadata": {},
   "source": [
    "Creamos un error personalizado para detener el código de manera segura si el arduino no se estabiliza"
   ]
  },
  {
   "cell_type": "code",
   "execution_count": null,
   "metadata": {
    "collapsed": true
   },
   "outputs": [],
   "source": [
    "class ArduinoMovementError(Exception):\n",
    "    \"\"\"Exception raised for errors in the Arduino movement.\n",
    "\n",
    "    Attributes:\n",
    "        message -- explanation of the error\n",
    "    \"\"\"\n",
    "\n",
    "    def __init__(self, message):\n",
    "        self.message = message\n"
   ]
  },
  {
   "cell_type": "markdown",
   "metadata": {},
   "source": [
    "## Código central"
   ]
  },
  {
   "cell_type": "code",
   "execution_count": null,
   "metadata": {
    "collapsed": false,
    "scrolled": true
   },
   "outputs": [],
   "source": [
    "tiempos = []\n",
    "posiciones =[]\n",
    "velocidades = []\n",
    "hitos = []\n",
    "destinos = [15,90,120]\n",
    "\n",
    "ser, starttime = com_start_full()\n",
    "\n",
    "for destino in destinos:\n",
    "    # -------------------------------\n",
    "    com_status(tiempos, posiciones, velocidades, ser)\n",
    "    # -----------------------------------\n",
    "\n",
    "    com_move(tiempos, posiciones, velocidades, ser, destino, posiciones[-1])\n",
    "\n",
    "    for i in range(100): #Leemos hasta que pase a 'Esperando', o hasta que pasen 100 pasos\n",
    "        finish = com_read_move(tiempos, posiciones, velocidades, hitos, ser)\n",
    "        if finish: break\n",
    "    else:\n",
    "        ser.close()\n",
    "        raise ArduinoMovementError('La plataforma no alcanzó el destino en el tiempo dado')\n",
    "            \n",
    "com_close(tiempos, posiciones, velocidades, ser)"
   ]
  },
  {
   "cell_type": "code",
   "execution_count": null,
   "metadata": {
    "collapsed": false
   },
   "outputs": [],
   "source": [
    "plt.figure(figsize=(12,8))\n",
    "\n",
    "\n",
    "plt.plot(tiempos, posiciones, label = 'Posición')\n",
    "plt.plot(tiempos, np.array(velocidades)*100, label = 'Velocidad (x100)')\n",
    "plt.hlines(0, 0, tiempos[-1], 'k','--')\n",
    "for hito in hitos:\n",
    "    plt.vlines(hito, -100,170, 'r', '--')\n",
    "plt.legend(loc = 2)\n",
    "plt.fill_between([hito,tiempos[-1]],[-100,-100],[170,170], alpha = 0.2, color = 'k')"
   ]
  },
  {
   "cell_type": "code",
   "execution_count": null,
   "metadata": {
    "collapsed": false
   },
   "outputs": [],
   "source": [
    "tiempos"
   ]
  },
  {
   "cell_type": "code",
   "execution_count": null,
   "metadata": {
    "collapsed": false
   },
   "outputs": [],
   "source": [
    "posiciones"
   ]
  },
  {
   "cell_type": "code",
   "execution_count": null,
   "metadata": {
    "collapsed": true
   },
   "outputs": [],
   "source": []
  },
  {
   "cell_type": "code",
   "execution_count": null,
   "metadata": {
    "collapsed": true
   },
   "outputs": [],
   "source": []
  }
 ],
 "metadata": {
  "kernelspec": {
   "display_name": "Python 3",
   "language": "python",
   "name": "python3"
  },
  "language_info": {
   "codemirror_mode": {
    "name": "ipython",
    "version": 3
   },
   "file_extension": ".py",
   "mimetype": "text/x-python",
   "name": "python",
   "nbconvert_exporter": "python",
   "pygments_lexer": "ipython3",
   "version": "3.5.2"
  }
 },
 "nbformat": 4,
 "nbformat_minor": 0
}
